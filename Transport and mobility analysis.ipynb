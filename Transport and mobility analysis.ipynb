{
 "cells": [
  {
   "cell_type": "code",
   "execution_count": null,
   "id": "b8bbbea3-6a97-43fa-9a77-8a2eb67c1c02",
   "metadata": {},
   "outputs": [],
   "source": []
  },
  {
   "cell_type": "code",
   "execution_count": 66,
   "id": "92fab36e-e825-4aed-9d82-f38020630106",
   "metadata": {},
   "outputs": [],
   "source": [
    "import pandas as pd\n",
    "import numpy as np\n",
    "import seaborn as sns\n",
    "import matplotlib.pyplot as plt\n"
   ]
  },
  {
   "cell_type": "code",
   "execution_count": 68,
   "id": "293d6ed2-3816-46b6-bf6c-0381802a4e90",
   "metadata": {},
   "outputs": [],
   "source": [
    "#reading the csv file\n",
    "dim_city_df = pd.read_csv('dim_city.csv')"
   ]
  },
  {
   "cell_type": "code",
   "execution_count": null,
   "id": "31e93005-1a0c-4e9c-9cae-b3302b005d5b",
   "metadata": {},
   "outputs": [],
   "source": []
  },
  {
   "cell_type": "code",
   "execution_count": 72,
   "id": "bf43bc75-1144-4b8c-ba93-fa1525ca4980",
   "metadata": {},
   "outputs": [],
   "source": [
    "#reading the csv file\n",
    "trips_df = pd.read_csv('fact_trips.csv') "
   ]
  },
  {
   "cell_type": "code",
   "execution_count": 74,
   "id": "bd4f3dd1-216f-4820-8fc8-11e835871d43",
   "metadata": {},
   "outputs": [],
   "source": [
    "fact_trips_df= pd.merge(dim_city_df,trips_df,on ='city_id', how='right' )"
   ]
  },
  {
   "cell_type": "code",
   "execution_count": 76,
   "id": "561076fd-1dbe-4354-a7c1-f1df927752c0",
   "metadata": {},
   "outputs": [
    {
     "data": {
      "text/plain": [
       "(425903, 9)"
      ]
     },
     "execution_count": 76,
     "metadata": {},
     "output_type": "execute_result"
    }
   ],
   "source": [
    "fact_trips_df.shape"
   ]
  },
  {
   "cell_type": "code",
   "execution_count": 78,
   "id": "3221ca33-0dbc-4359-ba84-c16c073c99c6",
   "metadata": {},
   "outputs": [
    {
     "data": {
      "text/html": [
       "<div>\n",
       "<style scoped>\n",
       "    .dataframe tbody tr th:only-of-type {\n",
       "        vertical-align: middle;\n",
       "    }\n",
       "\n",
       "    .dataframe tbody tr th {\n",
       "        vertical-align: top;\n",
       "    }\n",
       "\n",
       "    .dataframe thead th {\n",
       "        text-align: right;\n",
       "    }\n",
       "</style>\n",
       "<table border=\"1\" class=\"dataframe\">\n",
       "  <thead>\n",
       "    <tr style=\"text-align: right;\">\n",
       "      <th></th>\n",
       "      <th>city_id</th>\n",
       "      <th>city_name</th>\n",
       "      <th>trip_id</th>\n",
       "      <th>date</th>\n",
       "      <th>passenger_type</th>\n",
       "      <th>distance_travelled(km)</th>\n",
       "      <th>fare_amount</th>\n",
       "      <th>passenger_rating</th>\n",
       "      <th>driver_rating</th>\n",
       "    </tr>\n",
       "  </thead>\n",
       "  <tbody>\n",
       "    <tr>\n",
       "      <th>0</th>\n",
       "      <td>UP01</td>\n",
       "      <td>Lucknow</td>\n",
       "      <td>TRPLUC240113d55de2fb</td>\n",
       "      <td>2024-01-13</td>\n",
       "      <td>repeated</td>\n",
       "      <td>11</td>\n",
       "      <td>158</td>\n",
       "      <td>5</td>\n",
       "      <td>5</td>\n",
       "    </tr>\n",
       "    <tr>\n",
       "      <th>1</th>\n",
       "      <td>GJ02</td>\n",
       "      <td>Vadodara</td>\n",
       "      <td>TRPVAD240129a3b6dba8</td>\n",
       "      <td>2024-01-29</td>\n",
       "      <td>repeated</td>\n",
       "      <td>7</td>\n",
       "      <td>74</td>\n",
       "      <td>5</td>\n",
       "      <td>5</td>\n",
       "    </tr>\n",
       "    <tr>\n",
       "      <th>2</th>\n",
       "      <td>TN01</td>\n",
       "      <td>Coimbatore</td>\n",
       "      <td>TRPCOI240107a42430fb</td>\n",
       "      <td>2024-01-07</td>\n",
       "      <td>repeated</td>\n",
       "      <td>11</td>\n",
       "      <td>155</td>\n",
       "      <td>8</td>\n",
       "      <td>8</td>\n",
       "    </tr>\n",
       "    <tr>\n",
       "      <th>3</th>\n",
       "      <td>KL01</td>\n",
       "      <td>Kochi</td>\n",
       "      <td>TRPKOC240325d7601389</td>\n",
       "      <td>2024-03-25</td>\n",
       "      <td>repeated</td>\n",
       "      <td>36</td>\n",
       "      <td>427</td>\n",
       "      <td>9</td>\n",
       "      <td>10</td>\n",
       "    </tr>\n",
       "    <tr>\n",
       "      <th>4</th>\n",
       "      <td>AP01</td>\n",
       "      <td>Visakhapatnam</td>\n",
       "      <td>TRPVIS2406027be97166</td>\n",
       "      <td>2024-06-02</td>\n",
       "      <td>new</td>\n",
       "      <td>17</td>\n",
       "      <td>265</td>\n",
       "      <td>8</td>\n",
       "      <td>8</td>\n",
       "    </tr>\n",
       "    <tr>\n",
       "      <th>5</th>\n",
       "      <td>CH01</td>\n",
       "      <td>Chandigarh</td>\n",
       "      <td>TRPCHA24052276da3b06</td>\n",
       "      <td>2024-05-22</td>\n",
       "      <td>repeated</td>\n",
       "      <td>22</td>\n",
       "      <td>224</td>\n",
       "      <td>8</td>\n",
       "      <td>6</td>\n",
       "    </tr>\n",
       "    <tr>\n",
       "      <th>6</th>\n",
       "      <td>AP01</td>\n",
       "      <td>Visakhapatnam</td>\n",
       "      <td>TRPVIS24021227b67207</td>\n",
       "      <td>2024-02-12</td>\n",
       "      <td>repeated</td>\n",
       "      <td>10</td>\n",
       "      <td>117</td>\n",
       "      <td>2</td>\n",
       "      <td>2</td>\n",
       "    </tr>\n",
       "    <tr>\n",
       "      <th>7</th>\n",
       "      <td>AP01</td>\n",
       "      <td>Visakhapatnam</td>\n",
       "      <td>TRPVIS24062261a0e18c</td>\n",
       "      <td>2024-06-22</td>\n",
       "      <td>repeated</td>\n",
       "      <td>26</td>\n",
       "      <td>391</td>\n",
       "      <td>7</td>\n",
       "      <td>10</td>\n",
       "    </tr>\n",
       "    <tr>\n",
       "      <th>8</th>\n",
       "      <td>GJ01</td>\n",
       "      <td>Surat</td>\n",
       "      <td>TRPSUR24020926a565d2</td>\n",
       "      <td>2024-02-09</td>\n",
       "      <td>new</td>\n",
       "      <td>9</td>\n",
       "      <td>91</td>\n",
       "      <td>7</td>\n",
       "      <td>7</td>\n",
       "    </tr>\n",
       "    <tr>\n",
       "      <th>9</th>\n",
       "      <td>UP01</td>\n",
       "      <td>Lucknow</td>\n",
       "      <td>TRPLUC240327a61cfe66</td>\n",
       "      <td>2024-03-27</td>\n",
       "      <td>new</td>\n",
       "      <td>5</td>\n",
       "      <td>71</td>\n",
       "      <td>7</td>\n",
       "      <td>8</td>\n",
       "    </tr>\n",
       "  </tbody>\n",
       "</table>\n",
       "</div>"
      ],
      "text/plain": [
       "  city_id      city_name               trip_id        date passenger_type  \\\n",
       "0    UP01        Lucknow  TRPLUC240113d55de2fb  2024-01-13       repeated   \n",
       "1    GJ02       Vadodara  TRPVAD240129a3b6dba8  2024-01-29       repeated   \n",
       "2    TN01     Coimbatore  TRPCOI240107a42430fb  2024-01-07       repeated   \n",
       "3    KL01          Kochi  TRPKOC240325d7601389  2024-03-25       repeated   \n",
       "4    AP01  Visakhapatnam  TRPVIS2406027be97166  2024-06-02            new   \n",
       "5    CH01     Chandigarh  TRPCHA24052276da3b06  2024-05-22       repeated   \n",
       "6    AP01  Visakhapatnam  TRPVIS24021227b67207  2024-02-12       repeated   \n",
       "7    AP01  Visakhapatnam  TRPVIS24062261a0e18c  2024-06-22       repeated   \n",
       "8    GJ01          Surat  TRPSUR24020926a565d2  2024-02-09            new   \n",
       "9    UP01        Lucknow  TRPLUC240327a61cfe66  2024-03-27            new   \n",
       "\n",
       "   distance_travelled(km)  fare_amount  passenger_rating  driver_rating  \n",
       "0                      11          158                 5              5  \n",
       "1                       7           74                 5              5  \n",
       "2                      11          155                 8              8  \n",
       "3                      36          427                 9             10  \n",
       "4                      17          265                 8              8  \n",
       "5                      22          224                 8              6  \n",
       "6                      10          117                 2              2  \n",
       "7                      26          391                 7             10  \n",
       "8                       9           91                 7              7  \n",
       "9                       5           71                 7              8  "
      ]
     },
     "execution_count": 78,
     "metadata": {},
     "output_type": "execute_result"
    }
   ],
   "source": [
    "#findg the first 10 rows\n",
    "fact_trips_df.head(10)"
   ]
  },
  {
   "cell_type": "code",
   "execution_count": 80,
   "id": "1de7a6fa-bdbe-4fb7-b9a0-edba2aef8542",
   "metadata": {},
   "outputs": [
    {
     "data": {
      "text/plain": [
       "city_id                   0\n",
       "city_name                 0\n",
       "trip_id                   0\n",
       "date                      0\n",
       "passenger_type            0\n",
       "distance_travelled(km)    0\n",
       "fare_amount               0\n",
       "passenger_rating          0\n",
       "driver_rating             0\n",
       "dtype: int64"
      ]
     },
     "execution_count": 80,
     "metadata": {},
     "output_type": "execute_result"
    }
   ],
   "source": [
    "#checking for the total null values in each row\n",
    "fact_trips_df.isnull().sum()"
   ]
  },
  {
   "cell_type": "code",
   "execution_count": 82,
   "id": "7cfacfaa-17d4-475a-a7eb-858fb1d5b8c6",
   "metadata": {},
   "outputs": [
    {
     "data": {
      "text/plain": [
       "0"
      ]
     },
     "execution_count": 82,
     "metadata": {},
     "output_type": "execute_result"
    }
   ],
   "source": [
    "#checking to see duplicate values\n",
    "fact_trips_df.duplicated().sum()"
   ]
  },
  {
   "cell_type": "code",
   "execution_count": 84,
   "id": "38c02a00-41c3-4951-877c-06e6dc384a16",
   "metadata": {},
   "outputs": [
    {
     "name": "stdout",
     "output_type": "stream",
     "text": [
      "<class 'pandas.core.frame.DataFrame'>\n",
      "RangeIndex: 425903 entries, 0 to 425902\n",
      "Data columns (total 9 columns):\n",
      " #   Column                  Non-Null Count   Dtype \n",
      "---  ------                  --------------   ----- \n",
      " 0   city_id                 425903 non-null  object\n",
      " 1   city_name               425903 non-null  object\n",
      " 2   trip_id                 425903 non-null  object\n",
      " 3   date                    425903 non-null  object\n",
      " 4   passenger_type          425903 non-null  object\n",
      " 5   distance_travelled(km)  425903 non-null  int64 \n",
      " 6   fare_amount             425903 non-null  int64 \n",
      " 7   passenger_rating        425903 non-null  int64 \n",
      " 8   driver_rating           425903 non-null  int64 \n",
      "dtypes: int64(4), object(5)\n",
      "memory usage: 29.2+ MB\n"
     ]
    }
   ],
   "source": [
    "#checking the data type and column names \n",
    "fact_trips_df.info()"
   ]
  },
  {
   "cell_type": "code",
   "execution_count": 86,
   "id": "3de31698-7535-4ca7-9a49-db64d7761678",
   "metadata": {},
   "outputs": [
    {
     "data": {
      "text/html": [
       "<div>\n",
       "<style scoped>\n",
       "    .dataframe tbody tr th:only-of-type {\n",
       "        vertical-align: middle;\n",
       "    }\n",
       "\n",
       "    .dataframe tbody tr th {\n",
       "        vertical-align: top;\n",
       "    }\n",
       "\n",
       "    .dataframe thead th {\n",
       "        text-align: right;\n",
       "    }\n",
       "</style>\n",
       "<table border=\"1\" class=\"dataframe\">\n",
       "  <thead>\n",
       "    <tr style=\"text-align: right;\">\n",
       "      <th></th>\n",
       "      <th>distance_travelled(km)</th>\n",
       "      <th>fare_amount</th>\n",
       "      <th>passenger_rating</th>\n",
       "      <th>driver_rating</th>\n",
       "    </tr>\n",
       "  </thead>\n",
       "  <tbody>\n",
       "    <tr>\n",
       "      <th>count</th>\n",
       "      <td>425903.000000</td>\n",
       "      <td>425903.000000</td>\n",
       "      <td>425903.00000</td>\n",
       "      <td>425903.000000</td>\n",
       "    </tr>\n",
       "    <tr>\n",
       "      <th>mean</th>\n",
       "      <td>19.127172</td>\n",
       "      <td>254.020495</td>\n",
       "      <td>7.66104</td>\n",
       "      <td>7.830947</td>\n",
       "    </tr>\n",
       "    <tr>\n",
       "      <th>std</th>\n",
       "      <td>9.491735</td>\n",
       "      <td>159.638784</td>\n",
       "      <td>1.45533</td>\n",
       "      <td>1.442553</td>\n",
       "    </tr>\n",
       "    <tr>\n",
       "      <th>min</th>\n",
       "      <td>5.000000</td>\n",
       "      <td>58.000000</td>\n",
       "      <td>1.00000</td>\n",
       "      <td>1.000000</td>\n",
       "    </tr>\n",
       "    <tr>\n",
       "      <th>25%</th>\n",
       "      <td>12.000000</td>\n",
       "      <td>135.000000</td>\n",
       "      <td>7.00000</td>\n",
       "      <td>7.000000</td>\n",
       "    </tr>\n",
       "    <tr>\n",
       "      <th>50%</th>\n",
       "      <td>17.000000</td>\n",
       "      <td>199.000000</td>\n",
       "      <td>8.00000</td>\n",
       "      <td>8.000000</td>\n",
       "    </tr>\n",
       "    <tr>\n",
       "      <th>75%</th>\n",
       "      <td>25.000000</td>\n",
       "      <td>337.000000</td>\n",
       "      <td>9.00000</td>\n",
       "      <td>9.000000</td>\n",
       "    </tr>\n",
       "    <tr>\n",
       "      <th>max</th>\n",
       "      <td>45.000000</td>\n",
       "      <td>802.000000</td>\n",
       "      <td>10.00000</td>\n",
       "      <td>10.000000</td>\n",
       "    </tr>\n",
       "  </tbody>\n",
       "</table>\n",
       "</div>"
      ],
      "text/plain": [
       "       distance_travelled(km)    fare_amount  passenger_rating  driver_rating\n",
       "count           425903.000000  425903.000000      425903.00000  425903.000000\n",
       "mean                19.127172     254.020495           7.66104       7.830947\n",
       "std                  9.491735     159.638784           1.45533       1.442553\n",
       "min                  5.000000      58.000000           1.00000       1.000000\n",
       "25%                 12.000000     135.000000           7.00000       7.000000\n",
       "50%                 17.000000     199.000000           8.00000       8.000000\n",
       "75%                 25.000000     337.000000           9.00000       9.000000\n",
       "max                 45.000000     802.000000          10.00000      10.000000"
      ]
     },
     "execution_count": 86,
     "metadata": {},
     "output_type": "execute_result"
    }
   ],
   "source": [
    "#having a look at descriptive nature of the facts.csv dataset\n",
    "fact_trips_df.describe()"
   ]
  },
  {
   "cell_type": "code",
   "execution_count": 88,
   "id": "e1c4d953-dcf0-489b-a7be-2ea6b75ed4f0",
   "metadata": {},
   "outputs": [
    {
     "data": {
      "text/plain": [
       "city_id                       10\n",
       "city_name                     10\n",
       "trip_id                   425903\n",
       "date                         182\n",
       "passenger_type                 2\n",
       "distance_travelled(km)        41\n",
       "fare_amount                  273\n",
       "passenger_rating              10\n",
       "driver_rating                 10\n",
       "dtype: int64"
      ]
     },
     "execution_count": 88,
     "metadata": {},
     "output_type": "execute_result"
    }
   ],
   "source": [
    "#finding the unique cities using city id\n",
    "fact_trips_df.nunique()"
   ]
  },
  {
   "cell_type": "code",
   "execution_count": 23,
   "id": "eba726b4-4a30-4f8d-b8e4-ede77a0010ea",
   "metadata": {},
   "outputs": [],
   "source": [
    "#there are ten different cities\n"
   ]
  },
  {
   "cell_type": "code",
   "execution_count": 154,
   "id": "02da8715-6894-4615-ba25-0aec72fc852b",
   "metadata": {},
   "outputs": [],
   "source": [
    "performance_by_city = fact_trips_df.groupby('city_name')['trip_id'].nunique()"
   ]
  },
  {
   "cell_type": "code",
   "execution_count": null,
   "id": "c33d0939-7282-41fe-b0f2-e7c97e3ef3d6",
   "metadata": {},
   "outputs": [],
   "source": []
  },
  {
   "cell_type": "code",
   "execution_count": 156,
   "id": "0847d147-e72e-4c3e-aaaa-8698b3d3af59",
   "metadata": {},
   "outputs": [],
   "source": [
    "sorted_performing_cities = performance_by_city.sort_values(ascending=False)\n",
    "best_3_performing_cities = sorted_performing_cities.head(3)"
   ]
  },
  {
   "cell_type": "code",
   "execution_count": 158,
   "id": "e724bd18-11ef-4907-95e6-6695f3f79e00",
   "metadata": {},
   "outputs": [
    {
     "data": {
      "text/plain": [
       "city_name\n",
       "Jaipur     76888\n",
       "Lucknow    64299\n",
       "Surat      54843\n",
       "Name: trip_id, dtype: int64"
      ]
     },
     "execution_count": 158,
     "metadata": {},
     "output_type": "execute_result"
    }
   ],
   "source": [
    "best_3_performing_cities"
   ]
  },
  {
   "cell_type": "code",
   "execution_count": null,
   "id": "33e9c6a3-28aa-4c6a-8ffb-fd402f482d13",
   "metadata": {},
   "outputs": [],
   "source": [
    "# Set a pastel color palette using Seaborn\n",
    "sns.set_palette(\"pastel\")"
   ]
  },
  {
   "cell_type": "code",
   "execution_count": 175,
   "id": "2f441b19-4399-490c-b5c1-38ce712493d2",
   "metadata": {},
   "outputs": [
    {
     "data": {
      "image/png": "[encoded data removed]",
      "text/plain": [
       "<Figure size 640x480 with 1 Axes>"
      ]
     },
     "metadata": {},
     "output_type": "display_data"
    }
   ],
   "source": [
    "best_3_performing_cities.plot(kind='bar', x='city_name', color=sns.color_palette(\"cool\", len(best_3_performing_cities)))\n",
    "\n",
    "plt.title('Best 3 Performing Cities')\n",
    "plt.xlabel('City Name')\n",
    "plt.ylabel('Total trips')\n",
    "plt.show()"
   ]
  },
  {
   "cell_type": "code",
   "execution_count": null,
   "id": "50001a45-1da5-4923-b4fd-f0fd5e76d111",
   "metadata": {},
   "outputs": [],
   "source": []
  },
  {
   "cell_type": "code",
   "execution_count": 162,
   "id": "ef62f905-4a30-4de4-94df-5969890077cb",
   "metadata": {},
   "outputs": [],
   "source": [
    "sorted_performing_cities = performance_by_city.sort_values(ascending=False)\n",
    "worst_3_performing_cities = sorted_performing_cities.tail(3)"
   ]
  },
  {
   "cell_type": "code",
   "execution_count": 177,
   "id": "1b17a8eb-d7de-4a9f-afee-929980afa666",
   "metadata": {},
   "outputs": [
    {
     "data": {
      "text/html": [
       "<div>\n",
       "<style scoped>\n",
       "    .dataframe tbody tr th:only-of-type {\n",
       "        vertical-align: middle;\n",
       "    }\n",
       "\n",
       "    .dataframe tbody tr th {\n",
       "        vertical-align: top;\n",
       "    }\n",
       "\n",
       "    .dataframe thead th {\n",
       "        text-align: right;\n",
       "    }\n",
       "</style>\n",
       "<table border=\"1\" class=\"dataframe\">\n",
       "  <thead>\n",
       "    <tr style=\"text-align: right;\">\n",
       "      <th></th>\n",
       "      <th>city_name</th>\n",
       "      <th>trip_id</th>\n",
       "    </tr>\n",
       "  </thead>\n",
       "  <tbody>\n",
       "    <tr>\n",
       "      <th>0</th>\n",
       "      <td>Visakhapatnam</td>\n",
       "      <td>28366</td>\n",
       "    </tr>\n",
       "    <tr>\n",
       "      <th>1</th>\n",
       "      <td>Coimbatore</td>\n",
       "      <td>21104</td>\n",
       "    </tr>\n",
       "    <tr>\n",
       "      <th>2</th>\n",
       "      <td>Mysore</td>\n",
       "      <td>16238</td>\n",
       "    </tr>\n",
       "  </tbody>\n",
       "</table>\n",
       "</div>"
      ],
      "text/plain": [
       "       city_name  trip_id\n",
       "0  Visakhapatnam    28366\n",
       "1     Coimbatore    21104\n",
       "2         Mysore    16238"
      ]
     },
     "execution_count": 177,
     "metadata": {},
     "output_type": "execute_result"
    }
   ],
   "source": [
    "worst_3_performing_cities"
   ]
  },
  {
   "cell_type": "code",
   "execution_count": null,
   "id": "c52e4b35-a64e-49c3-b29e-3a17baac7f69",
   "metadata": {},
   "outputs": [],
   "source": [
    "# Set a pastel color palette using Seaborn\n",
    "sns.set_palette(\"pastel\")"
   ]
  },
  {
   "cell_type": "code",
   "execution_count": 195,
   "id": "898f0f8c-b4bf-4ddd-a7a9-6807caf9254c",
   "metadata": {},
   "outputs": [
    {
     "data": {
      "image/png": "[encoded data removed]",
      "text/plain": [
       "<Figure size 640x480 with 1 Axes>"
      ]
     },
     "metadata": {},
     "output_type": "display_data"
    }
   ],
   "source": [
    "worst_3_performing_cities.plot(kind='bar', x='city_name', color=sns.color_palette(\"winter\", len(best_3_performing_cities)))\n",
    "\n",
    "plt.title('worst 3 Performing Cities')\n",
    "plt.xlabel('City Name')\n",
    "plt.ylabel('Total trips')\n",
    "plt.show()"
   ]
  },
  {
   "cell_type": "code",
   "execution_count": 197,
   "id": "184ed466-914e-4d5e-b73e-7c1177976425",
   "metadata": {},
   "outputs": [],
   "source": [
    "average_fair_trip_by_city = fact_trips_df.groupby('city_name')['fare_amount'].mean()"
   ]
  },
  {
   "cell_type": "code",
   "execution_count": 199,
   "id": "0ba346e9-c718-4914-848a-a4c6aef2a1a1",
   "metadata": {},
   "outputs": [
    {
     "data": {
      "text/plain": [
       "city_name\n",
       "Chandigarh       283.686950\n",
       "Coimbatore       166.982183\n",
       "Indore           179.838609\n",
       "Jaipur           483.918128\n",
       "Kochi            335.245079\n",
       "Lucknow          147.180376\n",
       "Mysore           249.707168\n",
       "Surat            117.272925\n",
       "Vadodara         118.566165\n",
       "Visakhapatnam    282.672284\n",
       "Name: fare_amount, dtype: float64"
      ]
     },
     "execution_count": 199,
     "metadata": {},
     "output_type": "execute_result"
    }
   ],
   "source": [
    "#finding average fair trip by city\n",
    "average_fair_trip_by_city"
   ]
  },
  {
   "cell_type": "code",
   "execution_count": 201,
   "id": "334247a4-9062-47ad-8a84-06cc669fa5e8",
   "metadata": {},
   "outputs": [
    {
     "data": {
      "text/plain": [
       "city_name\n",
       "Jaipur           76888\n",
       "Lucknow          64299\n",
       "Surat            54843\n",
       "Kochi            50702\n",
       "Indore           42456\n",
       "Chandigarh       38981\n",
       "Vadodara         32026\n",
       "Visakhapatnam    28366\n",
       "Coimbatore       21104\n",
       "Mysore           16238\n",
       "Name: trip_id, dtype: int64"
      ]
     },
     "execution_count": 201,
     "metadata": {},
     "output_type": "execute_result"
    }
   ],
   "source": [
    "#number_of_trips_in_each_city\n",
    "sorted_performing_cities "
   ]
  },
  {
   "cell_type": "code",
   "execution_count": 203,
   "id": "61e9dd9e-0afa-4f50-a416-3abe08360768",
   "metadata": {},
   "outputs": [
    {
     "name": "stdout",
     "output_type": "stream",
     "text": [
      "       city_name  total_number_of_trips\n",
      "0         Jaipur                  76888\n",
      "1        Lucknow                  64299\n",
      "2          Surat                  54843\n",
      "3          Kochi                  50702\n",
      "4         Indore                  42456\n",
      "5     Chandigarh                  38981\n",
      "6       Vadodara                  32026\n",
      "7  Visakhapatnam                  28366\n",
      "8     Coimbatore                  21104\n",
      "9         Mysore                  16238\n"
     ]
    }
   ],
   "source": [
    "\n",
    "#the performance is in terms of trips\n",
    "performance_by_city = pd.Series({\n",
    "    'Jaipur': 76888,\n",
    "    'Lucknow': 64299,\n",
    "    'Surat': 54843,\n",
    "    'Kochi': 50702,\n",
    "    'Indore': 42456,\n",
    "    'Chandigarh': 38981,\n",
    "    'Vadodara': 32026,\n",
    "    'Visakhapatnam': 28366,\n",
    "    'Coimbatore': 21104,\n",
    "    'Mysore': 16238\n",
    "})\n",
    "\n",
    "# Sort values in descending order\n",
    "new_sorted_performing_cities = performance_by_city.sort_values(ascending=False)\n",
    "\n",
    "# Convert to DataFrame and rename the column\n",
    "sorted_performing_cities_df = new_sorted_performing_cities.reset_index()\n",
    "sorted_performing_cities_df.columns = ['city_name', 'total_number_of_trips']\n",
    "\n",
    "# Display the DataFrame\n",
    "print(sorted_performing_cities_df)\n"
   ]
  },
  {
   "cell_type": "code",
   "execution_count": 211,
   "id": "8456e907-c720-4c9a-b1b9-41f713cea043",
   "metadata": {},
   "outputs": [
    {
     "name": "stdout",
     "output_type": "stream",
     "text": [
      "       city_name  average_fare_per_trip\n",
      "0     Chandigarh             283.686950\n",
      "1     Coimbatore             166.982183\n",
      "2         Indore             179.838609\n",
      "3         Jaipur             483.918128\n",
      "4          Kochi             335.245079\n",
      "5        Lucknow             147.180376\n",
      "6         Mysore             249.707168\n",
      "7          Surat             117.272925\n",
      "8       Vadodara             118.566165\n",
      "9  Visakhapatnam             282.672284\n"
     ]
    }
   ],
   "source": [
    "# Group by city_name to sum the fare_amount for each city\n",
    "fare_sum_by_city = fact_trips_df.groupby('city_name')['fare_amount'].sum()\n",
    "\n",
    "# Align the total_number_of_trips with the grouped fare amounts\n",
    "total_trips_by_city = sorted_performing_cities_df.set_index('city_name')['total_number_of_trips']\n",
    "\n",
    "# Compute average fare per trip for each city\n",
    "average_fare_per_trip_by_city = fare_sum_by_city / total_trips_by_city\n",
    "\n",
    "# Convert to DataFrame for clarity\n",
    "average_fare_per_trip_by_city_df = average_fare_per_trip_by_city.reset_index()\n",
    "average_fare_per_trip_by_city_df.columns = ['city_name', 'average_fare_per_trip']\n",
    "\n",
    "# Display the result\n",
    "print(average_fare_per_trip_by_city_df)\n"
   ]
  },
  {
   "cell_type": "code",
   "execution_count": 226,
   "id": "3394172a-b651-45ea-9383-7a5b33260ba3",
   "metadata": {},
   "outputs": [],
   "source": [
    "distance_covered_per_city =fact_trips_df.groupby('city_name')['distance_travelled(km)'].sum()\n"
   ]
  },
  {
   "cell_type": "code",
   "execution_count": 228,
   "id": "b16d2e06-eb1c-4aa7-9e05-adbf1e9322d4",
   "metadata": {},
   "outputs": [],
   "source": [
    "distance_covered_per_city_df = distance_covered_per_city.reset_index()\n"
   ]
  },
  {
   "cell_type": "code",
   "execution_count": 230,
   "id": "b8c26d4c-86e5-4dd0-8212-032c3b4eb36e",
   "metadata": {},
   "outputs": [
    {
     "data": {
      "text/html": [
       "<div>\n",
       "<style scoped>\n",
       "    .dataframe tbody tr th:only-of-type {\n",
       "        vertical-align: middle;\n",
       "    }\n",
       "\n",
       "    .dataframe tbody tr th {\n",
       "        vertical-align: top;\n",
       "    }\n",
       "\n",
       "    .dataframe thead th {\n",
       "        text-align: right;\n",
       "    }\n",
       "</style>\n",
       "<table border=\"1\" class=\"dataframe\">\n",
       "  <thead>\n",
       "    <tr style=\"text-align: right;\">\n",
       "      <th></th>\n",
       "      <th>city_name</th>\n",
       "      <th>average_fare_per_trip</th>\n",
       "      <th>distance_travelled(km)</th>\n",
       "    </tr>\n",
       "  </thead>\n",
       "  <tbody>\n",
       "    <tr>\n",
       "      <th>0</th>\n",
       "      <td>Chandigarh</td>\n",
       "      <td>283.686950</td>\n",
       "      <td>916783</td>\n",
       "    </tr>\n",
       "    <tr>\n",
       "      <th>1</th>\n",
       "      <td>Coimbatore</td>\n",
       "      <td>166.982183</td>\n",
       "      <td>316121</td>\n",
       "    </tr>\n",
       "    <tr>\n",
       "      <th>2</th>\n",
       "      <td>Indore</td>\n",
       "      <td>179.838609</td>\n",
       "      <td>700629</td>\n",
       "    </tr>\n",
       "    <tr>\n",
       "      <th>3</th>\n",
       "      <td>Jaipur</td>\n",
       "      <td>483.918128</td>\n",
       "      <td>2308418</td>\n",
       "    </tr>\n",
       "    <tr>\n",
       "      <th>4</th>\n",
       "      <td>Kochi</td>\n",
       "      <td>335.245079</td>\n",
       "      <td>1220167</td>\n",
       "    </tr>\n",
       "    <tr>\n",
       "      <th>5</th>\n",
       "      <td>Lucknow</td>\n",
       "      <td>147.180376</td>\n",
       "      <td>804571</td>\n",
       "    </tr>\n",
       "    <tr>\n",
       "      <th>6</th>\n",
       "      <td>Mysore</td>\n",
       "      <td>249.707168</td>\n",
       "      <td>267877</td>\n",
       "    </tr>\n",
       "    <tr>\n",
       "      <th>7</th>\n",
       "      <td>Surat</td>\n",
       "      <td>117.272925</td>\n",
       "      <td>603122</td>\n",
       "    </tr>\n",
       "    <tr>\n",
       "      <th>8</th>\n",
       "      <td>Vadodara</td>\n",
       "      <td>118.566165</td>\n",
       "      <td>368867</td>\n",
       "    </tr>\n",
       "    <tr>\n",
       "      <th>9</th>\n",
       "      <td>Visakhapatnam</td>\n",
       "      <td>282.672284</td>\n",
       "      <td>639765</td>\n",
       "    </tr>\n",
       "  </tbody>\n",
       "</table>\n",
       "</div>"
      ],
      "text/plain": [
       "       city_name  average_fare_per_trip  distance_travelled(km)\n",
       "0     Chandigarh             283.686950                  916783\n",
       "1     Coimbatore             166.982183                  316121\n",
       "2         Indore             179.838609                  700629\n",
       "3         Jaipur             483.918128                 2308418\n",
       "4          Kochi             335.245079                 1220167\n",
       "5        Lucknow             147.180376                  804571\n",
       "6         Mysore             249.707168                  267877\n",
       "7          Surat             117.272925                  603122\n",
       "8       Vadodara             118.566165                  368867\n",
       "9  Visakhapatnam             282.672284                  639765"
      ]
     },
     "execution_count": 230,
     "metadata": {},
     "output_type": "execute_result"
    }
   ],
   "source": [
    "merged_distance_and_average_fair_df = pd.merge(average_fare_per_trip_by_city_df,distance_covered_per_city_df,on='city_name')\n",
    "merged_distance_and_average_fair_df"
   ]
  },
  {
   "cell_type": "code",
   "execution_count": 234,
   "id": "7e78b3fd-0c4a-4a0c-bfdd-2d1758bec6fe",
   "metadata": {},
   "outputs": [
    {
     "data": {
      "text/plain": [
       "([0, 1, 2, 3, 4, 5, 6, 7, 8, 9],\n",
       " [Text(0, 0, 'Chandigarh'),\n",
       "  Text(1, 0, 'Coimbatore'),\n",
       "  Text(2, 0, 'Indore'),\n",
       "  Text(3, 0, 'Jaipur'),\n",
       "  Text(4, 0, 'Kochi'),\n",
       "  Text(5, 0, 'Lucknow'),\n",
       "  Text(6, 0, 'Mysore'),\n",
       "  Text(7, 0, 'Surat'),\n",
       "  Text(8, 0, 'Vadodara'),\n",
       "  Text(9, 0, 'Visakhapatnam')])"
      ]
     },
     "execution_count": 234,
     "metadata": {},
     "output_type": "execute_result"
    },
    {
     "data": {
      "image/png": "[encoded data removed]",
      "text/plain": [
       "<Figure size 640x480 with 1 Axes>"
      ]
     },
     "metadata": {},
     "output_type": "display_data"
    }
   ],
   "source": [
    "sns.barplot(data=merged_distance_and_average_fair_df,x='city_name',y='distance_travelled(km)')\n",
    "plt.xticks(rotation=45)"
   ]
  },
  {
   "cell_type": "code",
   "execution_count": null,
   "id": "fdc3cdb4-09ec-43e9-a266-eea2f63345c1",
   "metadata": {},
   "outputs": [],
   "source": []
  },
  {
   "cell_type": "code",
   "execution_count": null,
   "id": "aaf1e979-7210-45a8-9e8a-981ace38d258",
   "metadata": {},
   "outputs": [],
   "source": []
  },
  {
   "cell_type": "code",
   "execution_count": null,
   "id": "391dd6f4-16ae-40c9-8e01-891f13e099d9",
   "metadata": {},
   "outputs": [],
   "source": []
  },
  {
   "cell_type": "code",
   "execution_count": null,
   "id": "19c4d8f6-8a88-41f5-a180-0d352acb4be4",
   "metadata": {},
   "outputs": [],
   "source": []
  },
  {
   "cell_type": "code",
   "execution_count": null,
   "id": "09c0bfc7-9b1f-44f3-9b2d-01dbf9f569e9",
   "metadata": {},
   "outputs": [],
   "source": []
  },
  {
   "cell_type": "code",
   "execution_count": null,
   "id": "b994b57d-0a00-47cd-b742-d1cfeb4ffee9",
   "metadata": {},
   "outputs": [],
   "source": []
  },
  {
   "cell_type": "code",
   "execution_count": null,
   "id": "5617b814-f815-4a89-af37-40f7373bf24e",
   "metadata": {},
   "outputs": [],
   "source": []
  },
  {
   "cell_type": "code",
   "execution_count": null,
   "id": "cd9b87d4-c5d2-42b0-9af6-d9a7156d7a96",
   "metadata": {},
   "outputs": [],
   "source": []
  },
  {
   "cell_type": "code",
   "execution_count": null,
   "id": "0727e76a-2dc4-402d-8b3d-d61b0518ee8d",
   "metadata": {},
   "outputs": [],
   "source": []
  },
  {
   "cell_type": "code",
   "execution_count": null,
   "id": "ab546aa8-7e00-4dac-a5c6-bcdb62f23bac",
   "metadata": {},
   "outputs": [],
   "source": []
  },
  {
   "cell_type": "code",
   "execution_count": null,
   "id": "90741ed6-633a-4df0-a358-a3e8d5e090f7",
   "metadata": {},
   "outputs": [],
   "source": []
  },
  {
   "cell_type": "code",
   "execution_count": null,
   "id": "bfeb8060-78c1-4db6-ba26-f3ae44a1783c",
   "metadata": {},
   "outputs": [],
   "source": []
  },
  {
   "cell_type": "code",
   "execution_count": null,
   "id": "438c20a0-7355-482d-9340-6fa873cc8c5f",
   "metadata": {},
   "outputs": [],
   "source": []
  },
  {
   "cell_type": "code",
   "execution_count": null,
   "id": "ef18f6b8-141b-4f89-b34f-80b48cb47e0e",
   "metadata": {},
   "outputs": [],
   "source": []
  },
  {
   "cell_type": "code",
   "execution_count": null,
   "id": "a80f8fd8-7fc8-4a16-b3bf-b8751cadf8ca",
   "metadata": {},
   "outputs": [],
   "source": []
  },
  {
   "cell_type": "code",
   "execution_count": null,
   "id": "546d3d5d-ecd5-418b-89e6-b6e0f361d277",
   "metadata": {},
   "outputs": [],
   "source": []
  },
  {
   "cell_type": "code",
   "execution_count": null,
   "id": "305032a9-4c5a-41d9-b90a-e51c28fd1c5d",
   "metadata": {},
   "outputs": [],
   "source": []
  },
  {
   "cell_type": "code",
   "execution_count": null,
   "id": "7ab4c419-51c2-42e1-9aeb-f4ea10767a57",
   "metadata": {},
   "outputs": [],
   "source": []
  },
  {
   "cell_type": "code",
   "execution_count": null,
   "id": "c7e0f096-f639-46f5-8add-76578ec40e81",
   "metadata": {},
   "outputs": [],
   "source": []
  },
  {
   "cell_type": "code",
   "execution_count": null,
   "id": "9cfe59b5-cbfa-4f36-b784-39baec9fc7cc",
   "metadata": {},
   "outputs": [],
   "source": []
  },
  {
   "cell_type": "code",
   "execution_count": null,
   "id": "35de9261-284e-4404-a43e-c5860990abcf",
   "metadata": {},
   "outputs": [],
   "source": []
  },
  {
   "cell_type": "code",
   "execution_count": null,
   "id": "c3a1a3e0-d9d5-486b-9e59-8fb8aeb5dfc4",
   "metadata": {},
   "outputs": [],
   "source": []
  },
  {
   "cell_type": "code",
   "execution_count": null,
   "id": "ff7e1992-ef69-43b0-87f2-393aad541a5b",
   "metadata": {},
   "outputs": [],
   "source": []
  },
  {
   "cell_type": "code",
   "execution_count": null,
   "id": "f62f13c9-eb87-41e0-9f8e-62117979acc1",
   "metadata": {},
   "outputs": [],
   "source": []
  },
  {
   "cell_type": "code",
   "execution_count": null,
   "id": "d5090c9e-4595-4f31-8243-3d91afad40bf",
   "metadata": {},
   "outputs": [],
   "source": []
  },
  {
   "cell_type": "code",
   "execution_count": null,
   "id": "20312478-d43f-4d3c-ba10-d244cfd25568",
   "metadata": {},
   "outputs": [],
   "source": []
  },
  {
   "cell_type": "code",
   "execution_count": null,
   "id": "22eded21-66c4-405d-800c-81a929db8a44",
   "metadata": {},
   "outputs": [],
   "source": []
  },
  {
   "cell_type": "code",
   "execution_count": null,
   "id": "417fb30b-8230-48a7-b9b6-7d5abb98a41d",
   "metadata": {},
   "outputs": [],
   "source": []
  },
  {
   "cell_type": "code",
   "execution_count": null,
   "id": "7d063420-26d8-479c-b2fb-5a182851aaf4",
   "metadata": {},
   "outputs": [],
   "source": []
  },
  {
   "cell_type": "code",
   "execution_count": null,
   "id": "b2809024-212f-4901-92e5-4b70e43fb85e",
   "metadata": {},
   "outputs": [],
   "source": []
  },
  {
   "cell_type": "code",
   "execution_count": null,
   "id": "c318d4b1-3848-44fa-97b1-13fd405c644f",
   "metadata": {},
   "outputs": [],
   "source": []
  },
  {
   "cell_type": "code",
   "execution_count": null,
   "id": "f3ead835-0de5-4966-9802-1795330114cb",
   "metadata": {},
   "outputs": [],
   "source": []
  },
  {
   "cell_type": "code",
   "execution_count": null,
   "id": "2f5f59f4-5b3b-400a-a028-0bdc262b8489",
   "metadata": {},
   "outputs": [],
   "source": []
  },
  {
   "cell_type": "code",
   "execution_count": null,
   "id": "44f62c62-f2cd-4192-8632-d386fbdb9274",
   "metadata": {},
   "outputs": [],
   "source": []
  },
  {
   "cell_type": "code",
   "execution_count": null,
   "id": "7b59e5dd-f640-48ea-b8bc-5e24107fbdef",
   "metadata": {},
   "outputs": [],
   "source": []
  },
  {
   "cell_type": "code",
   "execution_count": 43,
   "id": "69a956c5-259b-4174-b3d3-a13f662f6c33",
   "metadata": {},
   "outputs": [],
   "source": []
  },
  {
   "cell_type": "code",
   "execution_count": null,
   "id": "f817a0da-cbc2-464a-9779-83398faad2dc",
   "metadata": {},
   "outputs": [],
   "source": []
  },
  {
   "cell_type": "code",
   "execution_count": 57,
   "id": "6263153f-a8c6-40b2-8181-a1070d7d204b",
   "metadata": {},
   "outputs": [],
   "source": []
  },
  {
   "cell_type": "code",
   "execution_count": null,
   "id": "450b7fc9-1b35-4ffd-aadd-200d8fbba228",
   "metadata": {},
   "outputs": [],
   "source": []
  },
  {
   "cell_type": "code",
   "execution_count": null,
   "id": "8c32e579-83ed-4715-bce3-94299d69f164",
   "metadata": {},
   "outputs": [],
   "source": []
  },
  {
   "cell_type": "code",
   "execution_count": null,
   "id": "30e40fa6-5659-4e32-a495-9ea710a10377",
   "metadata": {},
   "outputs": [],
   "source": []
  },
  {
   "cell_type": "code",
   "execution_count": null,
   "id": "97b07851-2879-41dd-99d9-88ce2b476619",
   "metadata": {},
   "outputs": [],
   "source": []
  },
  {
   "cell_type": "code",
   "execution_count": null,
   "id": "9cb66505-6a6a-4bc5-8f0c-b8384f275641",
   "metadata": {},
   "outputs": [],
   "source": []
  },
  {
   "cell_type": "code",
   "execution_count": null,
   "id": "c00e7d2e-f5c0-452e-b659-491c0a997b85",
   "metadata": {},
   "outputs": [],
   "source": []
  },
  {
   "cell_type": "code",
   "execution_count": null,
   "id": "0204a843-ca79-4654-bbd1-f89946cb299f",
   "metadata": {},
   "outputs": [],
   "source": []
  },
  {
   "cell_type": "code",
   "execution_count": null,
   "id": "cb8d6bee-afcb-4da7-8474-1429d6833d52",
   "metadata": {},
   "outputs": [],
   "source": []
  },
  {
   "cell_type": "code",
   "execution_count": null,
   "id": "33abe7c8-b8d0-4c79-9a28-5035177b86bd",
   "metadata": {},
   "outputs": [],
   "source": []
  },
  {
   "cell_type": "code",
   "execution_count": null,
   "id": "a7f9dee6-419c-4ebf-9518-a30e43002421",
   "metadata": {},
   "outputs": [],
   "source": []
  },
  {
   "cell_type": "code",
   "execution_count": null,
   "id": "b7a4ae80-64c1-4032-8ac0-2e9cea6506e9",
   "metadata": {},
   "outputs": [],
   "source": []
  },
  {
   "cell_type": "code",
   "execution_count": null,
   "id": "2d4fdab9-ce88-4582-bf48-85c5a2d0a931",
   "metadata": {},
   "outputs": [],
   "source": []
  },
  {
   "cell_type": "code",
   "execution_count": null,
   "id": "70f01959-40a1-45e3-b4ea-89002dc949a1",
   "metadata": {},
   "outputs": [],
   "source": []
  },
  {
   "cell_type": "code",
   "execution_count": null,
   "id": "0dfd8285-f441-4345-9535-32be4c48d196",
   "metadata": {},
   "outputs": [],
   "source": []
  },
  {
   "cell_type": "code",
   "execution_count": null,
   "id": "7bbb8fc3-8ddc-4265-acce-1924795be890",
   "metadata": {},
   "outputs": [],
   "source": []
  },
  {
   "cell_type": "code",
   "execution_count": null,
   "id": "5d716336-aa33-4499-8ebe-e4f4ef3ad539",
   "metadata": {},
   "outputs": [],
   "source": []
  },
  {
   "cell_type": "code",
   "execution_count": null,
   "id": "3dc78880-e7e8-479d-ae69-e06fd1313fd8",
   "metadata": {},
   "outputs": [],
   "source": []
  },
  {
   "cell_type": "code",
   "execution_count": null,
   "id": "e529ea6b-c2df-4b19-8c75-1963a09a962d",
   "metadata": {},
   "outputs": [],
   "source": []
  },
  {
   "cell_type": "code",
   "execution_count": null,
   "id": "e9664982-f447-470b-af10-873b79a9925a",
   "metadata": {},
   "outputs": [],
   "source": []
  },
  {
   "cell_type": "code",
   "execution_count": null,
   "id": "32e35732-9ac3-4569-9f9b-071bf715ccf4",
   "metadata": {},
   "outputs": [],
   "source": []
  },
  {
   "cell_type": "code",
   "execution_count": null,
   "id": "61455da0-22e3-4560-bea3-5ed81992f917",
   "metadata": {},
   "outputs": [],
   "source": []
  },
  {
   "cell_type": "code",
   "execution_count": null,
   "id": "5c03f5f9-959d-4a92-8bfe-2c8f20ac5a8e",
   "metadata": {},
   "outputs": [],
   "source": []
  },
  {
   "cell_type": "code",
   "execution_count": null,
   "id": "a3d3c720-1fb2-44fe-bc0f-c6735a6f1197",
   "metadata": {},
   "outputs": [],
   "source": []
  }
 ],
 "metadata": {
  "kernelspec": {
   "display_name": "Python 3 (ipykernel)",
   "language": "python",
   "name": "python3"
  },
  "language_info": {
   "codemirror_mode": {
    "name": "ipython",
    "version": 3
   },
   "file_extension": ".py",
   "mimetype": "text/x-python",
   "name": "python",
   "nbconvert_exporter": "python",
   "pygments_lexer": "ipython3",
   "version": "3.12.4"
  }
 },
 "nbformat": 4,
 "nbformat_minor": 5
}
